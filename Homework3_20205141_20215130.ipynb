{
 "cells": [
  {
   "cell_type": "code",
   "execution_count": 2,
   "id": "3108d280",
   "metadata": {},
   "outputs": [],
   "source": [
    "%load_ext sql\n",
    "\n",
    "%sql sqlite:///sns.db"
   ]
  },
  {
   "cell_type": "code",
   "execution_count": 3,
   "id": "d7fd1c62",
   "metadata": {
    "scrolled": true
   },
   "outputs": [
    {
     "name": "stdout",
     "output_type": "stream",
     "text": [
      " * sqlite:///sns.db\n",
      "Done.\n"
     ]
    },
    {
     "data": {
      "text/html": [
       "<table>\n",
       "    <thead>\n",
       "        <tr>\n",
       "            <th>type</th>\n",
       "            <th>name</th>\n",
       "            <th>tbl_name</th>\n",
       "            <th>rootpage</th>\n",
       "            <th>sql</th>\n",
       "        </tr>\n",
       "    </thead>\n",
       "    <tbody>\n",
       "        <tr>\n",
       "            <td>table</td>\n",
       "            <td>billing_plan</td>\n",
       "            <td>billing_plan</td>\n",
       "            <td>2</td>\n",
       "            <td>CREATE TABLE billing_plan (<br>    billing_plan_id int primary key,<br>    payment int<br>)</td>\n",
       "        </tr>\n",
       "        <tr>\n",
       "            <td>index</td>\n",
       "            <td>sqlite_autoindex_billing_plan_1</td>\n",
       "            <td>billing_plan</td>\n",
       "            <td>3</td>\n",
       "            <td>None</td>\n",
       "        </tr>\n",
       "        <tr>\n",
       "            <td>table</td>\n",
       "            <td>user</td>\n",
       "            <td>user</td>\n",
       "            <td>4</td>\n",
       "            <td>CREATE TABLE user (<br>    user_id int primary key,<br>    name varchar(30) not null,<br>    birth_date text(10) not null,<br>    account_number int,<br>    bank varchar(30),<br>    billing_plan_id int,<br>    foreign key (billing_plan_id) references billing_plan(billing_plan_id)<br>)</td>\n",
       "        </tr>\n",
       "        <tr>\n",
       "            <td>index</td>\n",
       "            <td>sqlite_autoindex_user_1</td>\n",
       "            <td>user</td>\n",
       "            <td>5</td>\n",
       "            <td>None</td>\n",
       "        </tr>\n",
       "        <tr>\n",
       "            <td>table</td>\n",
       "            <td>follow</td>\n",
       "            <td>follow</td>\n",
       "            <td>6</td>\n",
       "            <td>CREATE TABLE follow(<br>    follower_id int,<br>    following_id int,<br>    primary key (follower_id, following_id),<br>    foreign key (follower_id) references user(user_id) on delete cascade,<br>    foreign key (following_id) references user(user_id) on delete cascade<br>)</td>\n",
       "        </tr>\n",
       "        <tr>\n",
       "            <td>index</td>\n",
       "            <td>sqlite_autoindex_follow_1</td>\n",
       "            <td>follow</td>\n",
       "            <td>7</td>\n",
       "            <td>None</td>\n",
       "        </tr>\n",
       "        <tr>\n",
       "            <td>table</td>\n",
       "            <td>post</td>\n",
       "            <td>post</td>\n",
       "            <td>8</td>\n",
       "            <td>CREATE TABLE post (<br>    post_id int primary key,<br>    text text,<br>    user_id int,<br>    foreign key (user_id) references user(user_id) on delete cascade<br>)</td>\n",
       "        </tr>\n",
       "        <tr>\n",
       "            <td>index</td>\n",
       "            <td>sqlite_autoindex_post_1</td>\n",
       "            <td>post</td>\n",
       "            <td>9</td>\n",
       "            <td>None</td>\n",
       "        </tr>\n",
       "        <tr>\n",
       "            <td>table</td>\n",
       "            <td>comment</td>\n",
       "            <td>comment</td>\n",
       "            <td>10</td>\n",
       "            <td>CREATE TABLE comment (<br>    comment_id int primary key,<br>    comment text,<br>    user_id int,<br>    post_id int,<br>    foreign key (user_id) references user(user_id) on delete cascade,<br>    foreign key (post_id) references post(post_id) on delete cascade<br>)</td>\n",
       "        </tr>\n",
       "        <tr>\n",
       "            <td>index</td>\n",
       "            <td>sqlite_autoindex_comment_1</td>\n",
       "            <td>comment</td>\n",
       "            <td>11</td>\n",
       "            <td>None</td>\n",
       "        </tr>\n",
       "        <tr>\n",
       "            <td>table</td>\n",
       "            <td>like_comment</td>\n",
       "            <td>like_comment</td>\n",
       "            <td>12</td>\n",
       "            <td>CREATE TABLE like_comment (<br>    user_id int,<br>    comment_id int,<br>    primary key (user_id, comment_id)<br>    foreign key (user_id) references user(user_id) on delete cascade,<br>    foreign key (comment_id) references comment(comment_id) on delete cascade<br>)</td>\n",
       "        </tr>\n",
       "        <tr>\n",
       "            <td>index</td>\n",
       "            <td>sqlite_autoindex_like_comment_1</td>\n",
       "            <td>like_comment</td>\n",
       "            <td>13</td>\n",
       "            <td>None</td>\n",
       "        </tr>\n",
       "        <tr>\n",
       "            <td>table</td>\n",
       "            <td>like</td>\n",
       "            <td>like</td>\n",
       "            <td>14</td>\n",
       "            <td>CREATE TABLE like (<br>    user_id int,<br>    post_id int,<br>    primary key (user_id, post_id)<br>    foreign key (user_id) references user(user_id) on delete cascade,<br>    foreign key (post_id) references post(post_id) on delete cascade<br>)</td>\n",
       "        </tr>\n",
       "        <tr>\n",
       "            <td>index</td>\n",
       "            <td>sqlite_autoindex_like_1</td>\n",
       "            <td>like</td>\n",
       "            <td>15</td>\n",
       "            <td>None</td>\n",
       "        </tr>\n",
       "        <tr>\n",
       "            <td>table</td>\n",
       "            <td>view</td>\n",
       "            <td>view</td>\n",
       "            <td>16</td>\n",
       "            <td>CREATE TABLE view (<br>    user_id int,<br>    post_id int,<br>    primary key (user_id, post_id)<br>    foreign key (user_id) references user(user_id) on delete cascade,<br>    foreign key (post_id) references post(post_id) on delete cascade<br>)</td>\n",
       "        </tr>\n",
       "        <tr>\n",
       "            <td>index</td>\n",
       "            <td>sqlite_autoindex_view_1</td>\n",
       "            <td>view</td>\n",
       "            <td>17</td>\n",
       "            <td>None</td>\n",
       "        </tr>\n",
       "        <tr>\n",
       "            <td>table</td>\n",
       "            <td>video_metadata</td>\n",
       "            <td>video_metadata</td>\n",
       "            <td>18</td>\n",
       "            <td>CREATE TABLE video_metadata (<br>    video_id int primary key,<br>    title varchar(255),<br>    duration text(20),<br>    format varchar(255),<br>    file_size nemeric(20, 2),<br>    video_url varchar(255)<br>)</td>\n",
       "        </tr>\n",
       "        <tr>\n",
       "            <td>index</td>\n",
       "            <td>sqlite_autoindex_video_metadata_1</td>\n",
       "            <td>video_metadata</td>\n",
       "            <td>19</td>\n",
       "            <td>None</td>\n",
       "        </tr>\n",
       "        <tr>\n",
       "            <td>table</td>\n",
       "            <td>image_metadata</td>\n",
       "            <td>image_metadata</td>\n",
       "            <td>20</td>\n",
       "            <td>CREATE TABLE image_metadata (<br>    image_id int primary key,<br>    title varchar(255),<br>    format varchar(255),<br>    file_size numeric(20, 2),<br>    image_url varchar(255)<br>)</td>\n",
       "        </tr>\n",
       "        <tr>\n",
       "            <td>index</td>\n",
       "            <td>sqlite_autoindex_image_metadata_1</td>\n",
       "            <td>image_metadata</td>\n",
       "            <td>21</td>\n",
       "            <td>None</td>\n",
       "        </tr>\n",
       "        <tr>\n",
       "            <td>table</td>\n",
       "            <td>post_video</td>\n",
       "            <td>post_video</td>\n",
       "            <td>22</td>\n",
       "            <td>CREATE TABLE post_video (<br>    post_id int,<br>    video_id int,<br>    primary key(post_id, video_id),<br>    foreign key (post_id) references post(post_id),<br>    foreign key (video_id) references video_metadata(video_id) on delete cascade<br>)</td>\n",
       "        </tr>\n",
       "        <tr>\n",
       "            <td>index</td>\n",
       "            <td>sqlite_autoindex_post_video_1</td>\n",
       "            <td>post_video</td>\n",
       "            <td>23</td>\n",
       "            <td>None</td>\n",
       "        </tr>\n",
       "        <tr>\n",
       "            <td>table</td>\n",
       "            <td>post_image</td>\n",
       "            <td>post_image</td>\n",
       "            <td>24</td>\n",
       "            <td>CREATE TABLE post_image (<br>    post_id int,<br>    image_id int,<br>    primary key(post_id, image_id),<br>    foreign key (post_id) references post(post_id),<br>    foreign key (image_id) references image_metadata(image_id) on delete cascade<br>)</td>\n",
       "        </tr>\n",
       "        <tr>\n",
       "            <td>index</td>\n",
       "            <td>sqlite_autoindex_post_image_1</td>\n",
       "            <td>post_image</td>\n",
       "            <td>25</td>\n",
       "            <td>None</td>\n",
       "        </tr>\n",
       "    </tbody>\n",
       "</table>"
      ],
      "text/plain": [
       "[('table', 'billing_plan', 'billing_plan', 2, 'CREATE TABLE billing_plan (\\n    billing_plan_id int primary key,\\n    payment int\\n)'),\n",
       " ('index', 'sqlite_autoindex_billing_plan_1', 'billing_plan', 3, None),\n",
       " ('table', 'user', 'user', 4, 'CREATE TABLE user (\\n    user_id int primary key,\\n    name varchar(30) not null,\\n    birth_date text(10) not null,\\n    account_number int,\\n    bank varchar(30),\\n    billing_plan_id int,\\n    foreign key (billing_plan_id) references billing_plan(billing_plan_id)\\n)'),\n",
       " ('index', 'sqlite_autoindex_user_1', 'user', 5, None),\n",
       " ('table', 'follow', 'follow', 6, 'CREATE TABLE follow(\\n    follower_id int,\\n    following_id int,\\n    primary key (follower_id, following_id),\\n    foreign key (follower_id) references user(user_id) on delete cascade,\\n    foreign key (following_id) references user(user_id) on delete cascade\\n)'),\n",
       " ('index', 'sqlite_autoindex_follow_1', 'follow', 7, None),\n",
       " ('table', 'post', 'post', 8, 'CREATE TABLE post (\\n    post_id int primary key,\\n    text text,\\n    user_id int,\\n    foreign key (user_id) references user(user_id) on delete cascade\\n)'),\n",
       " ('index', 'sqlite_autoindex_post_1', 'post', 9, None),\n",
       " ('table', 'comment', 'comment', 10, 'CREATE TABLE comment (\\n    comment_id int primary key,\\n    comment text,\\n    user_id int,\\n    post_id int,\\n    foreign key (user_id) references user(user_id) on delete cascade,\\n    foreign key (post_id) references post(post_id) on delete cascade\\n)'),\n",
       " ('index', 'sqlite_autoindex_comment_1', 'comment', 11, None),\n",
       " ('table', 'like_comment', 'like_comment', 12, 'CREATE TABLE like_comment (\\n    user_id int,\\n    comment_id int,\\n    primary key (user_id, comment_id)\\n    foreign key (user_id) references user(user_id) on delete cascade,\\n    foreign key (comment_id) references comment(comment_id) on delete cascade\\n)'),\n",
       " ('index', 'sqlite_autoindex_like_comment_1', 'like_comment', 13, None),\n",
       " ('table', 'like', 'like', 14, 'CREATE TABLE like (\\n    user_id int,\\n    post_id int,\\n    primary key (user_id, post_id)\\n    foreign key (user_id) references user(user_id) on delete cascade,\\n    foreign key (post_id) references post(post_id) on delete cascade\\n)'),\n",
       " ('index', 'sqlite_autoindex_like_1', 'like', 15, None),\n",
       " ('table', 'view', 'view', 16, 'CREATE TABLE view (\\n    user_id int,\\n    post_id int,\\n    primary key (user_id, post_id)\\n    foreign key (user_id) references user(user_id) on delete cascade,\\n    foreign key (post_id) references post(post_id) on delete cascade\\n)'),\n",
       " ('index', 'sqlite_autoindex_view_1', 'view', 17, None),\n",
       " ('table', 'video_metadata', 'video_metadata', 18, 'CREATE TABLE video_metadata (\\n    video_id int primary key,\\n    title varchar(255),\\n    duration text(20),\\n    format varchar(255),\\n    file_size nemeric(20, 2),\\n    video_url varchar(255)\\n)'),\n",
       " ('index', 'sqlite_autoindex_video_metadata_1', 'video_metadata', 19, None),\n",
       " ('table', 'image_metadata', 'image_metadata', 20, 'CREATE TABLE image_metadata (\\n    image_id int primary key,\\n    title varchar(255),\\n    format varchar(255),\\n    file_size numeric(20, 2),\\n    image_url varchar(255)\\n)'),\n",
       " ('index', 'sqlite_autoindex_image_metadata_1', 'image_metadata', 21, None),\n",
       " ('table', 'post_video', 'post_video', 22, 'CREATE TABLE post_video (\\n    post_id int,\\n    video_id int,\\n    primary key(post_id, video_id),\\n    foreign key (post_id) references post(post_id),\\n    foreign key (video_id) references video_metadata(video_id) on delete cascade\\n)'),\n",
       " ('index', 'sqlite_autoindex_post_video_1', 'post_video', 23, None),\n",
       " ('table', 'post_image', 'post_image', 24, 'CREATE TABLE post_image (\\n    post_id int,\\n    image_id int,\\n    primary key(post_id, image_id),\\n    foreign key (post_id) references post(post_id),\\n    foreign key (image_id) references image_metadata(image_id) on delete cascade\\n)'),\n",
       " ('index', 'sqlite_autoindex_post_image_1', 'post_image', 25, None)]"
      ]
     },
     "execution_count": 3,
     "metadata": {},
     "output_type": "execute_result"
    }
   ],
   "source": [
    "%%sql\n",
    "select * from sqlite_master"
   ]
  },
  {
   "cell_type": "markdown",
   "id": "73c2b188",
   "metadata": {},
   "source": [
    "### billing_plan"
   ]
  },
  {
   "cell_type": "code",
   "execution_count": 3,
   "id": "53705b48",
   "metadata": {},
   "outputs": [
    {
     "name": "stdout",
     "output_type": "stream",
     "text": [
      " * sqlite:///sns.db\n",
      "Done.\n"
     ]
    },
    {
     "data": {
      "text/plain": [
       "[]"
      ]
     },
     "execution_count": 3,
     "metadata": {},
     "output_type": "execute_result"
    }
   ],
   "source": [
    "%%sql \n",
    "create table billing_plan (\n",
    "    billing_plan_id int primary key,\n",
    "    payment int\n",
    ")"
   ]
  },
  {
   "cell_type": "code",
   "execution_count": 4,
   "id": "568b40ea",
   "metadata": {
    "scrolled": true
   },
   "outputs": [
    {
     "name": "stdout",
     "output_type": "stream",
     "text": [
      " * sqlite:///sns.db\n",
      "4 rows affected.\n"
     ]
    },
    {
     "data": {
      "text/plain": [
       "[]"
      ]
     },
     "execution_count": 4,
     "metadata": {},
     "output_type": "execute_result"
    }
   ],
   "source": [
    "%%sql insert into billing_plan(billing_plan_id, payment) \n",
    "values \n",
    "    (0, 9900),\n",
    "    (1, 19900),\n",
    "    (2, 29900),\n",
    "    (3, 99000)"
   ]
  },
  {
   "cell_type": "code",
   "execution_count": 5,
   "id": "8141c37f",
   "metadata": {
    "scrolled": false
   },
   "outputs": [
    {
     "name": "stdout",
     "output_type": "stream",
     "text": [
      " * sqlite:///sns.db\n",
      "Done.\n"
     ]
    },
    {
     "data": {
      "text/html": [
       "<table>\n",
       "    <thead>\n",
       "        <tr>\n",
       "            <th>billing_plan_id</th>\n",
       "            <th>payment</th>\n",
       "        </tr>\n",
       "    </thead>\n",
       "    <tbody>\n",
       "        <tr>\n",
       "            <td>0</td>\n",
       "            <td>9900</td>\n",
       "        </tr>\n",
       "        <tr>\n",
       "            <td>1</td>\n",
       "            <td>19900</td>\n",
       "        </tr>\n",
       "        <tr>\n",
       "            <td>2</td>\n",
       "            <td>29900</td>\n",
       "        </tr>\n",
       "        <tr>\n",
       "            <td>3</td>\n",
       "            <td>99000</td>\n",
       "        </tr>\n",
       "    </tbody>\n",
       "</table>"
      ],
      "text/plain": [
       "[(0, 9900), (1, 19900), (2, 29900), (3, 99000)]"
      ]
     },
     "execution_count": 5,
     "metadata": {},
     "output_type": "execute_result"
    }
   ],
   "source": [
    "%sql select * from billing_plan"
   ]
  },
  {
   "cell_type": "markdown",
   "id": "bbcf1540",
   "metadata": {},
   "source": [
    "### user"
   ]
  },
  {
   "cell_type": "code",
   "execution_count": 6,
   "id": "ed4bbe81",
   "metadata": {
    "scrolled": true
   },
   "outputs": [
    {
     "name": "stdout",
     "output_type": "stream",
     "text": [
      " * sqlite:///sns.db\n",
      "Done.\n"
     ]
    },
    {
     "data": {
      "text/plain": [
       "[]"
      ]
     },
     "execution_count": 6,
     "metadata": {},
     "output_type": "execute_result"
    }
   ],
   "source": [
    "%%sql\n",
    "create table user (\n",
    "    user_id int primary key,\n",
    "    name varchar(30) not null,\n",
    "    birth_date text(10) not null,\n",
    "    account_number int,\n",
    "    bank varchar(30),\n",
    "    billing_plan_id int,\n",
    "    foreign key (billing_plan_id) references billing_plan(billing_plan_id)\n",
    ")"
   ]
  },
  {
   "cell_type": "code",
   "execution_count": 7,
   "id": "79ff7618",
   "metadata": {
    "scrolled": true
   },
   "outputs": [
    {
     "name": "stdout",
     "output_type": "stream",
     "text": [
      " * sqlite:///sns.db\n",
      "6 rows affected.\n"
     ]
    },
    {
     "data": {
      "text/plain": [
       "[]"
      ]
     },
     "execution_count": 7,
     "metadata": {},
     "output_type": "execute_result"
    }
   ],
   "source": [
    "%%sql insert into user(user_id, name, birth_date, account_number, bank, billing_plan_id) \n",
    "values \n",
    "    (0, 'John', '2000-01-01', '0000-0000', 'small bank', null),\n",
    "    (1, 'Sarah', '1999-01-01', '0000-0001', 'medium bank', 1),\n",
    "    (2, 'Sena', '1998-01-01', '0000-0002', 'big bank', 2),\n",
    "    (3, 'Garen', '1997-01-01', '0000-0003', 'small bank', 1),\n",
    "    (4, 'Jin', '2000-02-01', '0000-0004', 'medium bank', 2),\n",
    "    (5, 'Elon', '2002-12-01', '0000-0005', 'big bank', 3)"
   ]
  },
  {
   "cell_type": "code",
   "execution_count": 8,
   "id": "2643815e",
   "metadata": {
    "scrolled": true
   },
   "outputs": [
    {
     "name": "stdout",
     "output_type": "stream",
     "text": [
      " * sqlite:///sns.db\n",
      "Done.\n"
     ]
    },
    {
     "data": {
      "text/html": [
       "<table>\n",
       "    <thead>\n",
       "        <tr>\n",
       "            <th>user_id</th>\n",
       "            <th>name</th>\n",
       "            <th>birth_date</th>\n",
       "            <th>account_number</th>\n",
       "            <th>bank</th>\n",
       "            <th>billing_plan_id</th>\n",
       "        </tr>\n",
       "    </thead>\n",
       "    <tbody>\n",
       "        <tr>\n",
       "            <td>0</td>\n",
       "            <td>John</td>\n",
       "            <td>2000-01-01</td>\n",
       "            <td>0000-0000</td>\n",
       "            <td>small bank</td>\n",
       "            <td>None</td>\n",
       "        </tr>\n",
       "        <tr>\n",
       "            <td>1</td>\n",
       "            <td>Sarah</td>\n",
       "            <td>1999-01-01</td>\n",
       "            <td>0000-0001</td>\n",
       "            <td>medium bank</td>\n",
       "            <td>1</td>\n",
       "        </tr>\n",
       "        <tr>\n",
       "            <td>2</td>\n",
       "            <td>Sena</td>\n",
       "            <td>1998-01-01</td>\n",
       "            <td>0000-0002</td>\n",
       "            <td>big bank</td>\n",
       "            <td>2</td>\n",
       "        </tr>\n",
       "        <tr>\n",
       "            <td>3</td>\n",
       "            <td>Garen</td>\n",
       "            <td>1997-01-01</td>\n",
       "            <td>0000-0003</td>\n",
       "            <td>small bank</td>\n",
       "            <td>1</td>\n",
       "        </tr>\n",
       "        <tr>\n",
       "            <td>4</td>\n",
       "            <td>Jin</td>\n",
       "            <td>2000-02-01</td>\n",
       "            <td>0000-0004</td>\n",
       "            <td>medium bank</td>\n",
       "            <td>2</td>\n",
       "        </tr>\n",
       "        <tr>\n",
       "            <td>5</td>\n",
       "            <td>Elon</td>\n",
       "            <td>2002-12-01</td>\n",
       "            <td>0000-0005</td>\n",
       "            <td>big bank</td>\n",
       "            <td>3</td>\n",
       "        </tr>\n",
       "    </tbody>\n",
       "</table>"
      ],
      "text/plain": [
       "[(0, 'John', '2000-01-01', '0000-0000', 'small bank', None),\n",
       " (1, 'Sarah', '1999-01-01', '0000-0001', 'medium bank', 1),\n",
       " (2, 'Sena', '1998-01-01', '0000-0002', 'big bank', 2),\n",
       " (3, 'Garen', '1997-01-01', '0000-0003', 'small bank', 1),\n",
       " (4, 'Jin', '2000-02-01', '0000-0004', 'medium bank', 2),\n",
       " (5, 'Elon', '2002-12-01', '0000-0005', 'big bank', 3)]"
      ]
     },
     "execution_count": 8,
     "metadata": {},
     "output_type": "execute_result"
    }
   ],
   "source": [
    "%sql select * from user"
   ]
  },
  {
   "cell_type": "markdown",
   "id": "1e36f8ad",
   "metadata": {},
   "source": [
    "### follow"
   ]
  },
  {
   "cell_type": "code",
   "execution_count": 50,
   "id": "8637c373",
   "metadata": {
    "scrolled": true
   },
   "outputs": [
    {
     "name": "stdout",
     "output_type": "stream",
     "text": [
      " * sqlite:///sns.db\n",
      "Done.\n"
     ]
    },
    {
     "data": {
      "text/plain": [
       "[]"
      ]
     },
     "execution_count": 50,
     "metadata": {},
     "output_type": "execute_result"
    }
   ],
   "source": [
    "%%sql create table follow(\n",
    "    follower_id int,\n",
    "    following_id int,\n",
    "    primary key (follower_id, following_id),\n",
    "    foreign key (follower_id) references user(user_id) on delete cascade,\n",
    "    foreign key (following_id) references user(user_id) on delete cascade\n",
    ")"
   ]
  },
  {
   "cell_type": "code",
   "execution_count": 51,
   "id": "7eeaab88",
   "metadata": {
    "scrolled": true
   },
   "outputs": [
    {
     "name": "stdout",
     "output_type": "stream",
     "text": [
      " * sqlite:///sns.db\n",
      "14 rows affected.\n"
     ]
    },
    {
     "data": {
      "text/plain": [
       "[]"
      ]
     },
     "execution_count": 51,
     "metadata": {},
     "output_type": "execute_result"
    }
   ],
   "source": [
    "%%sql insert into follow (follower_id, following_id)\n",
    "values\n",
    "    (0, 1),\n",
    "    (0, 2),\n",
    "    (0, 3),\n",
    "    (1, 2),\n",
    "    (1, 0),\n",
    "    (2, 5),\n",
    "    (2, 1),\n",
    "    (3, 4),\n",
    "    (3, 2),\n",
    "    (4, 5),\n",
    "    (4, 0),\n",
    "    (5, 0),\n",
    "    (5, 2),\n",
    "    (5, 3)"
   ]
  },
  {
   "cell_type": "code",
   "execution_count": 52,
   "id": "d43f34d8",
   "metadata": {
    "scrolled": true
   },
   "outputs": [
    {
     "name": "stdout",
     "output_type": "stream",
     "text": [
      " * sqlite:///sns.db\n",
      "Done.\n"
     ]
    },
    {
     "data": {
      "text/html": [
       "<table>\n",
       "    <thead>\n",
       "        <tr>\n",
       "            <th>follower_id</th>\n",
       "            <th>following_id</th>\n",
       "        </tr>\n",
       "    </thead>\n",
       "    <tbody>\n",
       "        <tr>\n",
       "            <td>0</td>\n",
       "            <td>1</td>\n",
       "        </tr>\n",
       "        <tr>\n",
       "            <td>0</td>\n",
       "            <td>2</td>\n",
       "        </tr>\n",
       "        <tr>\n",
       "            <td>0</td>\n",
       "            <td>3</td>\n",
       "        </tr>\n",
       "        <tr>\n",
       "            <td>1</td>\n",
       "            <td>2</td>\n",
       "        </tr>\n",
       "        <tr>\n",
       "            <td>1</td>\n",
       "            <td>0</td>\n",
       "        </tr>\n",
       "        <tr>\n",
       "            <td>2</td>\n",
       "            <td>5</td>\n",
       "        </tr>\n",
       "        <tr>\n",
       "            <td>2</td>\n",
       "            <td>1</td>\n",
       "        </tr>\n",
       "        <tr>\n",
       "            <td>3</td>\n",
       "            <td>4</td>\n",
       "        </tr>\n",
       "        <tr>\n",
       "            <td>3</td>\n",
       "            <td>2</td>\n",
       "        </tr>\n",
       "        <tr>\n",
       "            <td>4</td>\n",
       "            <td>5</td>\n",
       "        </tr>\n",
       "        <tr>\n",
       "            <td>4</td>\n",
       "            <td>0</td>\n",
       "        </tr>\n",
       "        <tr>\n",
       "            <td>5</td>\n",
       "            <td>0</td>\n",
       "        </tr>\n",
       "        <tr>\n",
       "            <td>5</td>\n",
       "            <td>2</td>\n",
       "        </tr>\n",
       "        <tr>\n",
       "            <td>5</td>\n",
       "            <td>3</td>\n",
       "        </tr>\n",
       "    </tbody>\n",
       "</table>"
      ],
      "text/plain": [
       "[(0, 1),\n",
       " (0, 2),\n",
       " (0, 3),\n",
       " (1, 2),\n",
       " (1, 0),\n",
       " (2, 5),\n",
       " (2, 1),\n",
       " (3, 4),\n",
       " (3, 2),\n",
       " (4, 5),\n",
       " (4, 0),\n",
       " (5, 0),\n",
       " (5, 2),\n",
       " (5, 3)]"
      ]
     },
     "execution_count": 52,
     "metadata": {},
     "output_type": "execute_result"
    }
   ],
   "source": [
    "%sql select * from follow"
   ]
  },
  {
   "cell_type": "markdown",
   "id": "c7c12a32",
   "metadata": {},
   "source": [
    "### post"
   ]
  },
  {
   "cell_type": "code",
   "execution_count": 12,
   "id": "7ef7062f",
   "metadata": {},
   "outputs": [
    {
     "name": "stdout",
     "output_type": "stream",
     "text": [
      " * sqlite:///sns.db\n",
      "Done.\n"
     ]
    },
    {
     "data": {
      "text/plain": [
       "[]"
      ]
     },
     "execution_count": 12,
     "metadata": {},
     "output_type": "execute_result"
    }
   ],
   "source": [
    "%%sql create table post (\n",
    "    post_id int primary key,\n",
    "    text text,\n",
    "    user_id int,\n",
    "    foreign key (user_id) references user(user_id) on delete cascade\n",
    ")"
   ]
  },
  {
   "cell_type": "code",
   "execution_count": 13,
   "id": "36c559b9",
   "metadata": {},
   "outputs": [
    {
     "name": "stdout",
     "output_type": "stream",
     "text": [
      " * sqlite:///sns.db\n",
      "6 rows affected.\n"
     ]
    },
    {
     "data": {
      "text/plain": [
       "[]"
      ]
     },
     "execution_count": 13,
     "metadata": {},
     "output_type": "execute_result"
    }
   ],
   "source": [
    "%%sql insert into post (post_id, text, user_id)\n",
    "values\n",
    "    (0, \"I think today's weather is good.\", 0),\n",
    "    (1, \"I saw TV show bigbang's theory, today.\", 1),\n",
    "    (2, 'hello sns, I am Sena.', 2),\n",
    "    (3, 'I like play', 3),\n",
    "    (4, 'I took midterm exam.', 4),\n",
    "    (5, \"Let's game together.\", 5)"
   ]
  },
  {
   "cell_type": "code",
   "execution_count": 14,
   "id": "547862cf",
   "metadata": {
    "scrolled": false
   },
   "outputs": [
    {
     "name": "stdout",
     "output_type": "stream",
     "text": [
      " * sqlite:///sns.db\n",
      "Done.\n"
     ]
    },
    {
     "data": {
      "text/html": [
       "<table>\n",
       "    <thead>\n",
       "        <tr>\n",
       "            <th>post_id</th>\n",
       "            <th>text</th>\n",
       "            <th>user_id</th>\n",
       "        </tr>\n",
       "    </thead>\n",
       "    <tbody>\n",
       "        <tr>\n",
       "            <td>0</td>\n",
       "            <td>I think today&#x27;s weather is good.</td>\n",
       "            <td>0</td>\n",
       "        </tr>\n",
       "        <tr>\n",
       "            <td>1</td>\n",
       "            <td>I saw TV show bigbang&#x27;s theory, today.</td>\n",
       "            <td>1</td>\n",
       "        </tr>\n",
       "        <tr>\n",
       "            <td>2</td>\n",
       "            <td>hello sns, I am Sena.</td>\n",
       "            <td>2</td>\n",
       "        </tr>\n",
       "        <tr>\n",
       "            <td>3</td>\n",
       "            <td>I like play</td>\n",
       "            <td>3</td>\n",
       "        </tr>\n",
       "        <tr>\n",
       "            <td>4</td>\n",
       "            <td>I took midterm exam.</td>\n",
       "            <td>4</td>\n",
       "        </tr>\n",
       "        <tr>\n",
       "            <td>5</td>\n",
       "            <td>Let&#x27;s game together.</td>\n",
       "            <td>5</td>\n",
       "        </tr>\n",
       "    </tbody>\n",
       "</table>"
      ],
      "text/plain": [
       "[(0, \"I think today's weather is good.\", 0),\n",
       " (1, \"I saw TV show bigbang's theory, today.\", 1),\n",
       " (2, 'hello sns, I am Sena.', 2),\n",
       " (3, 'I like play', 3),\n",
       " (4, 'I took midterm exam.', 4),\n",
       " (5, \"Let's game together.\", 5)]"
      ]
     },
     "execution_count": 14,
     "metadata": {},
     "output_type": "execute_result"
    }
   ],
   "source": [
    "%sql select * from post"
   ]
  },
  {
   "cell_type": "markdown",
   "id": "b73addb9",
   "metadata": {},
   "source": [
    "### comment"
   ]
  },
  {
   "cell_type": "code",
   "execution_count": 15,
   "id": "de39e843",
   "metadata": {},
   "outputs": [
    {
     "name": "stdout",
     "output_type": "stream",
     "text": [
      " * sqlite:///sns.db\n",
      "Done.\n"
     ]
    },
    {
     "data": {
      "text/plain": [
       "[]"
      ]
     },
     "execution_count": 15,
     "metadata": {},
     "output_type": "execute_result"
    }
   ],
   "source": [
    "%%sql create table comment (\n",
    "    comment_id int primary key,\n",
    "    comment text,\n",
    "    user_id int,\n",
    "    post_id int,\n",
    "    foreign key (user_id) references user(user_id) on delete cascade,\n",
    "    foreign key (post_id) references post(post_id) on delete cascade\n",
    ")"
   ]
  },
  {
   "cell_type": "code",
   "execution_count": 16,
   "id": "12d940ef",
   "metadata": {},
   "outputs": [
    {
     "name": "stdout",
     "output_type": "stream",
     "text": [
      " * sqlite:///sns.db\n",
      "6 rows affected.\n"
     ]
    },
    {
     "data": {
      "text/plain": [
       "[]"
      ]
     },
     "execution_count": 16,
     "metadata": {},
     "output_type": "execute_result"
    }
   ],
   "source": [
    "%%sql insert into comment (comment_id, comment, user_id, post_id)\n",
    "values\n",
    "    (0, \"I like that TV show too.\", 0, 1),\n",
    "    (1, \"hello Sena\", 1, 2),\n",
    "    (2, \"I like playing soccer, what about you?\", 2, 3),\n",
    "    (3, \"Did you took well that exam?\", 3, 4),\n",
    "    (4, \"what game?\", 4, 5),\n",
    "    (5, \"I agree, today' weather is good!\", 5, 0)"
   ]
  },
  {
   "cell_type": "code",
   "execution_count": 17,
   "id": "0c08afec",
   "metadata": {},
   "outputs": [
    {
     "name": "stdout",
     "output_type": "stream",
     "text": [
      " * sqlite:///sns.db\n",
      "Done.\n"
     ]
    },
    {
     "data": {
      "text/html": [
       "<table>\n",
       "    <thead>\n",
       "        <tr>\n",
       "            <th>comment_id</th>\n",
       "            <th>comment</th>\n",
       "            <th>user_id</th>\n",
       "            <th>post_id</th>\n",
       "        </tr>\n",
       "    </thead>\n",
       "    <tbody>\n",
       "        <tr>\n",
       "            <td>0</td>\n",
       "            <td>I like that TV show too.</td>\n",
       "            <td>0</td>\n",
       "            <td>1</td>\n",
       "        </tr>\n",
       "        <tr>\n",
       "            <td>1</td>\n",
       "            <td>hello Sena</td>\n",
       "            <td>1</td>\n",
       "            <td>2</td>\n",
       "        </tr>\n",
       "        <tr>\n",
       "            <td>2</td>\n",
       "            <td>I like playing soccer, what about you?</td>\n",
       "            <td>2</td>\n",
       "            <td>3</td>\n",
       "        </tr>\n",
       "        <tr>\n",
       "            <td>3</td>\n",
       "            <td>Did you took well that exam?</td>\n",
       "            <td>3</td>\n",
       "            <td>4</td>\n",
       "        </tr>\n",
       "        <tr>\n",
       "            <td>4</td>\n",
       "            <td>what game?</td>\n",
       "            <td>4</td>\n",
       "            <td>5</td>\n",
       "        </tr>\n",
       "        <tr>\n",
       "            <td>5</td>\n",
       "            <td>I agree, today&#x27; weather is good!</td>\n",
       "            <td>5</td>\n",
       "            <td>0</td>\n",
       "        </tr>\n",
       "    </tbody>\n",
       "</table>"
      ],
      "text/plain": [
       "[(0, 'I like that TV show too.', 0, 1),\n",
       " (1, 'hello Sena', 1, 2),\n",
       " (2, 'I like playing soccer, what about you?', 2, 3),\n",
       " (3, 'Did you took well that exam?', 3, 4),\n",
       " (4, 'what game?', 4, 5),\n",
       " (5, \"I agree, today' weather is good!\", 5, 0)]"
      ]
     },
     "execution_count": 17,
     "metadata": {},
     "output_type": "execute_result"
    }
   ],
   "source": [
    "%sql select * from comment"
   ]
  },
  {
   "cell_type": "markdown",
   "id": "74823de4",
   "metadata": {},
   "source": [
    "### like_comment"
   ]
  },
  {
   "cell_type": "code",
   "execution_count": 18,
   "id": "c357d8f0",
   "metadata": {
    "scrolled": true
   },
   "outputs": [
    {
     "name": "stdout",
     "output_type": "stream",
     "text": [
      " * sqlite:///sns.db\n",
      "Done.\n"
     ]
    },
    {
     "data": {
      "text/plain": [
       "[]"
      ]
     },
     "execution_count": 18,
     "metadata": {},
     "output_type": "execute_result"
    }
   ],
   "source": [
    "%%sql create table like_comment (\n",
    "    user_id int,\n",
    "    comment_id int,\n",
    "    primary key (user_id, comment_id)\n",
    "    foreign key (user_id) references user(user_id) on delete cascade,\n",
    "    foreign key (comment_id) references comment(comment_id) on delete cascade\n",
    ")"
   ]
  },
  {
   "cell_type": "code",
   "execution_count": 19,
   "id": "425112f9",
   "metadata": {},
   "outputs": [
    {
     "name": "stdout",
     "output_type": "stream",
     "text": [
      " * sqlite:///sns.db\n",
      "9 rows affected.\n"
     ]
    },
    {
     "data": {
      "text/plain": [
       "[]"
      ]
     },
     "execution_count": 19,
     "metadata": {},
     "output_type": "execute_result"
    }
   ],
   "source": [
    "%%sql insert into like_comment (user_id, comment_id)\n",
    "values\n",
    "    (0, 5),\n",
    "    (0, 2),\n",
    "    (1, 0),\n",
    "    (2, 1),\n",
    "    (3, 2),\n",
    "    (3, 5),\n",
    "    (4, 3),\n",
    "    (4, 5),\n",
    "    (5, 4)"
   ]
  },
  {
   "cell_type": "code",
   "execution_count": 20,
   "id": "f657c805",
   "metadata": {},
   "outputs": [
    {
     "name": "stdout",
     "output_type": "stream",
     "text": [
      " * sqlite:///sns.db\n",
      "Done.\n"
     ]
    },
    {
     "data": {
      "text/html": [
       "<table>\n",
       "    <thead>\n",
       "        <tr>\n",
       "            <th>user_id</th>\n",
       "            <th>comment_id</th>\n",
       "        </tr>\n",
       "    </thead>\n",
       "    <tbody>\n",
       "        <tr>\n",
       "            <td>0</td>\n",
       "            <td>5</td>\n",
       "        </tr>\n",
       "        <tr>\n",
       "            <td>0</td>\n",
       "            <td>2</td>\n",
       "        </tr>\n",
       "        <tr>\n",
       "            <td>1</td>\n",
       "            <td>0</td>\n",
       "        </tr>\n",
       "        <tr>\n",
       "            <td>2</td>\n",
       "            <td>1</td>\n",
       "        </tr>\n",
       "        <tr>\n",
       "            <td>3</td>\n",
       "            <td>2</td>\n",
       "        </tr>\n",
       "        <tr>\n",
       "            <td>3</td>\n",
       "            <td>5</td>\n",
       "        </tr>\n",
       "        <tr>\n",
       "            <td>4</td>\n",
       "            <td>3</td>\n",
       "        </tr>\n",
       "        <tr>\n",
       "            <td>4</td>\n",
       "            <td>5</td>\n",
       "        </tr>\n",
       "        <tr>\n",
       "            <td>5</td>\n",
       "            <td>4</td>\n",
       "        </tr>\n",
       "    </tbody>\n",
       "</table>"
      ],
      "text/plain": [
       "[(0, 5), (0, 2), (1, 0), (2, 1), (3, 2), (3, 5), (4, 3), (4, 5), (5, 4)]"
      ]
     },
     "execution_count": 20,
     "metadata": {},
     "output_type": "execute_result"
    }
   ],
   "source": [
    "%sql select * from like_comment"
   ]
  },
  {
   "cell_type": "markdown",
   "id": "6b4b4b2f",
   "metadata": {},
   "source": [
    "### like"
   ]
  },
  {
   "cell_type": "code",
   "execution_count": 21,
   "id": "77c85f68",
   "metadata": {},
   "outputs": [
    {
     "name": "stdout",
     "output_type": "stream",
     "text": [
      " * sqlite:///sns.db\n",
      "Done.\n"
     ]
    },
    {
     "data": {
      "text/plain": [
       "[]"
      ]
     },
     "execution_count": 21,
     "metadata": {},
     "output_type": "execute_result"
    }
   ],
   "source": [
    "%%sql create table like (\n",
    "    user_id int,\n",
    "    post_id int,\n",
    "    primary key (user_id, post_id)\n",
    "    foreign key (user_id) references user(user_id) on delete cascade,\n",
    "    foreign key (post_id) references post(post_id) on delete cascade\n",
    ")"
   ]
  },
  {
   "cell_type": "code",
   "execution_count": 22,
   "id": "0384a1f8",
   "metadata": {},
   "outputs": [
    {
     "name": "stdout",
     "output_type": "stream",
     "text": [
      " * sqlite:///sns.db\n",
      "11 rows affected.\n"
     ]
    },
    {
     "data": {
      "text/plain": [
       "[]"
      ]
     },
     "execution_count": 22,
     "metadata": {},
     "output_type": "execute_result"
    }
   ],
   "source": [
    "%%sql insert into like (user_id, post_id)\n",
    "values\n",
    "    (0, 1),\n",
    "    (0, 3),\n",
    "    (0, 4),\n",
    "    (1, 0),\n",
    "    (1, 2),\n",
    "    (1, 4),\n",
    "    (2, 0),\n",
    "    (3, 5),\n",
    "    (4, 0),\n",
    "    (5, 0),\n",
    "    (5, 1)"
   ]
  },
  {
   "cell_type": "code",
   "execution_count": 23,
   "id": "b39e5083",
   "metadata": {},
   "outputs": [
    {
     "name": "stdout",
     "output_type": "stream",
     "text": [
      " * sqlite:///sns.db\n",
      "Done.\n"
     ]
    },
    {
     "data": {
      "text/html": [
       "<table>\n",
       "    <thead>\n",
       "        <tr>\n",
       "            <th>user_id</th>\n",
       "            <th>post_id</th>\n",
       "        </tr>\n",
       "    </thead>\n",
       "    <tbody>\n",
       "        <tr>\n",
       "            <td>0</td>\n",
       "            <td>1</td>\n",
       "        </tr>\n",
       "        <tr>\n",
       "            <td>0</td>\n",
       "            <td>3</td>\n",
       "        </tr>\n",
       "        <tr>\n",
       "            <td>0</td>\n",
       "            <td>4</td>\n",
       "        </tr>\n",
       "        <tr>\n",
       "            <td>1</td>\n",
       "            <td>0</td>\n",
       "        </tr>\n",
       "        <tr>\n",
       "            <td>1</td>\n",
       "            <td>2</td>\n",
       "        </tr>\n",
       "        <tr>\n",
       "            <td>1</td>\n",
       "            <td>4</td>\n",
       "        </tr>\n",
       "        <tr>\n",
       "            <td>2</td>\n",
       "            <td>0</td>\n",
       "        </tr>\n",
       "        <tr>\n",
       "            <td>3</td>\n",
       "            <td>5</td>\n",
       "        </tr>\n",
       "        <tr>\n",
       "            <td>4</td>\n",
       "            <td>0</td>\n",
       "        </tr>\n",
       "        <tr>\n",
       "            <td>5</td>\n",
       "            <td>0</td>\n",
       "        </tr>\n",
       "        <tr>\n",
       "            <td>5</td>\n",
       "            <td>1</td>\n",
       "        </tr>\n",
       "    </tbody>\n",
       "</table>"
      ],
      "text/plain": [
       "[(0, 1),\n",
       " (0, 3),\n",
       " (0, 4),\n",
       " (1, 0),\n",
       " (1, 2),\n",
       " (1, 4),\n",
       " (2, 0),\n",
       " (3, 5),\n",
       " (4, 0),\n",
       " (5, 0),\n",
       " (5, 1)]"
      ]
     },
     "execution_count": 23,
     "metadata": {},
     "output_type": "execute_result"
    }
   ],
   "source": [
    "%sql select * from like"
   ]
  },
  {
   "cell_type": "markdown",
   "id": "c9c46ecd",
   "metadata": {},
   "source": [
    "### view"
   ]
  },
  {
   "cell_type": "code",
   "execution_count": 24,
   "id": "3f03e1f9",
   "metadata": {},
   "outputs": [
    {
     "name": "stdout",
     "output_type": "stream",
     "text": [
      " * sqlite:///sns.db\n",
      "Done.\n"
     ]
    },
    {
     "data": {
      "text/plain": [
       "[]"
      ]
     },
     "execution_count": 24,
     "metadata": {},
     "output_type": "execute_result"
    }
   ],
   "source": [
    "%%sql create table view (\n",
    "    user_id int,\n",
    "    post_id int,\n",
    "    primary key (user_id, post_id)\n",
    "    foreign key (user_id) references user(user_id) on delete cascade,\n",
    "    foreign key (post_id) references post(post_id) on delete cascade\n",
    ")"
   ]
  },
  {
   "cell_type": "code",
   "execution_count": 25,
   "id": "4c4106a7",
   "metadata": {},
   "outputs": [
    {
     "name": "stdout",
     "output_type": "stream",
     "text": [
      " * sqlite:///sns.db\n",
      "11 rows affected.\n"
     ]
    },
    {
     "data": {
      "text/plain": [
       "[]"
      ]
     },
     "execution_count": 25,
     "metadata": {},
     "output_type": "execute_result"
    }
   ],
   "source": [
    "%%sql insert into view (user_id, post_id)\n",
    "values\n",
    "    (0, 1),\n",
    "    (0, 3),\n",
    "    (0, 4),\n",
    "    (1, 0),\n",
    "    (1, 2),\n",
    "    (1, 4),\n",
    "    (2, 0),\n",
    "    (3, 5),\n",
    "    (4, 0),\n",
    "    (5, 0),\n",
    "    (5, 1)"
   ]
  },
  {
   "cell_type": "code",
   "execution_count": 26,
   "id": "15a7aadd",
   "metadata": {},
   "outputs": [
    {
     "name": "stdout",
     "output_type": "stream",
     "text": [
      " * sqlite:///sns.db\n",
      "Done.\n"
     ]
    },
    {
     "data": {
      "text/html": [
       "<table>\n",
       "    <thead>\n",
       "        <tr>\n",
       "            <th>user_id</th>\n",
       "            <th>post_id</th>\n",
       "        </tr>\n",
       "    </thead>\n",
       "    <tbody>\n",
       "        <tr>\n",
       "            <td>0</td>\n",
       "            <td>1</td>\n",
       "        </tr>\n",
       "        <tr>\n",
       "            <td>0</td>\n",
       "            <td>3</td>\n",
       "        </tr>\n",
       "        <tr>\n",
       "            <td>0</td>\n",
       "            <td>4</td>\n",
       "        </tr>\n",
       "        <tr>\n",
       "            <td>1</td>\n",
       "            <td>0</td>\n",
       "        </tr>\n",
       "        <tr>\n",
       "            <td>1</td>\n",
       "            <td>2</td>\n",
       "        </tr>\n",
       "        <tr>\n",
       "            <td>1</td>\n",
       "            <td>4</td>\n",
       "        </tr>\n",
       "        <tr>\n",
       "            <td>2</td>\n",
       "            <td>0</td>\n",
       "        </tr>\n",
       "        <tr>\n",
       "            <td>3</td>\n",
       "            <td>5</td>\n",
       "        </tr>\n",
       "        <tr>\n",
       "            <td>4</td>\n",
       "            <td>0</td>\n",
       "        </tr>\n",
       "        <tr>\n",
       "            <td>5</td>\n",
       "            <td>0</td>\n",
       "        </tr>\n",
       "        <tr>\n",
       "            <td>5</td>\n",
       "            <td>1</td>\n",
       "        </tr>\n",
       "    </tbody>\n",
       "</table>"
      ],
      "text/plain": [
       "[(0, 1),\n",
       " (0, 3),\n",
       " (0, 4),\n",
       " (1, 0),\n",
       " (1, 2),\n",
       " (1, 4),\n",
       " (2, 0),\n",
       " (3, 5),\n",
       " (4, 0),\n",
       " (5, 0),\n",
       " (5, 1)]"
      ]
     },
     "execution_count": 26,
     "metadata": {},
     "output_type": "execute_result"
    }
   ],
   "source": [
    "%sql select * from view"
   ]
  },
  {
   "cell_type": "markdown",
   "id": "d658729b",
   "metadata": {},
   "source": [
    "### video_metadata"
   ]
  },
  {
   "cell_type": "code",
   "execution_count": 27,
   "id": "b74ee3f7",
   "metadata": {},
   "outputs": [
    {
     "name": "stdout",
     "output_type": "stream",
     "text": [
      " * sqlite:///sns.db\n",
      "Done.\n"
     ]
    },
    {
     "data": {
      "text/plain": [
       "[]"
      ]
     },
     "execution_count": 27,
     "metadata": {},
     "output_type": "execute_result"
    }
   ],
   "source": [
    "%%sql create table video_metadata (\n",
    "    video_id int primary key,\n",
    "    title varchar(255),\n",
    "    duration text(20),\n",
    "    format varchar(255),\n",
    "    file_size nemeric(20, 2),\n",
    "    video_url varchar(255)\n",
    ")"
   ]
  },
  {
   "cell_type": "code",
   "execution_count": 28,
   "id": "4db35ca1",
   "metadata": {},
   "outputs": [
    {
     "name": "stdout",
     "output_type": "stream",
     "text": [
      " * sqlite:///sns.db\n",
      "2 rows affected.\n"
     ]
    },
    {
     "data": {
      "text/plain": [
       "[]"
      ]
     },
     "execution_count": 28,
     "metadata": {},
     "output_type": "execute_result"
    }
   ],
   "source": [
    "%%sql insert into video_metadata(video_id, title, duration, format, file_size, video_url)\n",
    "values\n",
    "    (0, \"bigbang's theory season 1, episode 1\", \"00:30:00\", \"mp4\", 1000000000, \"http://localhost:3000/bigbang's_theory_01_01\"),\n",
    "    (1, \"bigbang's theory season 9, episode 22\", \"00:25:00\", \"mp4\", 1000000000, \"http://localhost:300/bigbang's_theory_09_22\")"
   ]
  },
  {
   "cell_type": "code",
   "execution_count": 29,
   "id": "ba14c633",
   "metadata": {},
   "outputs": [
    {
     "name": "stdout",
     "output_type": "stream",
     "text": [
      " * sqlite:///sns.db\n",
      "Done.\n"
     ]
    },
    {
     "data": {
      "text/html": [
       "<table>\n",
       "    <thead>\n",
       "        <tr>\n",
       "            <th>video_id</th>\n",
       "            <th>title</th>\n",
       "            <th>duration</th>\n",
       "            <th>format</th>\n",
       "            <th>file_size</th>\n",
       "            <th>video_url</th>\n",
       "        </tr>\n",
       "    </thead>\n",
       "    <tbody>\n",
       "        <tr>\n",
       "            <td>0</td>\n",
       "            <td>bigbang&#x27;s theory season 1, episode 1</td>\n",
       "            <td>00:30:00</td>\n",
       "            <td>mp4</td>\n",
       "            <td>1000000000</td>\n",
       "            <td>http://localhost:3000/bigbang&#x27;s_theory_01_01</td>\n",
       "        </tr>\n",
       "        <tr>\n",
       "            <td>1</td>\n",
       "            <td>bigbang&#x27;s theory season 9, episode 22</td>\n",
       "            <td>00:25:00</td>\n",
       "            <td>mp4</td>\n",
       "            <td>1000000000</td>\n",
       "            <td>http://localhost:300/bigbang&#x27;s_theory_09_22</td>\n",
       "        </tr>\n",
       "    </tbody>\n",
       "</table>"
      ],
      "text/plain": [
       "[(0, \"bigbang's theory season 1, episode 1\", '00:30:00', 'mp4', 1000000000, \"http://localhost:3000/bigbang's_theory_01_01\"),\n",
       " (1, \"bigbang's theory season 9, episode 22\", '00:25:00', 'mp4', 1000000000, \"http://localhost:300/bigbang's_theory_09_22\")]"
      ]
     },
     "execution_count": 29,
     "metadata": {},
     "output_type": "execute_result"
    }
   ],
   "source": [
    "%sql select * from video_metadata"
   ]
  },
  {
   "cell_type": "markdown",
   "id": "a2290c23",
   "metadata": {},
   "source": [
    "### image_metadata"
   ]
  },
  {
   "cell_type": "code",
   "execution_count": 30,
   "id": "7b3d82b7",
   "metadata": {},
   "outputs": [
    {
     "name": "stdout",
     "output_type": "stream",
     "text": [
      " * sqlite:///sns.db\n",
      "Done.\n"
     ]
    },
    {
     "data": {
      "text/plain": [
       "[]"
      ]
     },
     "execution_count": 30,
     "metadata": {},
     "output_type": "execute_result"
    }
   ],
   "source": [
    "%%sql create table image_metadata (\n",
    "    image_id int primary key,\n",
    "    title varchar(255),\n",
    "    format varchar(255),\n",
    "    file_size numeric(20, 2),\n",
    "    image_url varchar(255)\n",
    ")"
   ]
  },
  {
   "cell_type": "code",
   "execution_count": 31,
   "id": "a64edf7a",
   "metadata": {},
   "outputs": [
    {
     "name": "stdout",
     "output_type": "stream",
     "text": [
      " * sqlite:///sns.db\n",
      "2 rows affected.\n"
     ]
    },
    {
     "data": {
      "text/plain": [
       "[]"
      ]
     },
     "execution_count": 31,
     "metadata": {},
     "output_type": "execute_result"
    }
   ],
   "source": [
    "%%sql insert into image_metadata (image_id, title, format, file_size, image_url)\n",
    "values\n",
    "    (0, \"selfie_20231105_01\", \"png\", 3000000, \"http://localhost:3000/image/231105_01\"),\n",
    "    (1, \"dog_20231005_09\", \"png\", 4000000, \"http://localhost:300/image/231005_09\")"
   ]
  },
  {
   "cell_type": "code",
   "execution_count": 32,
   "id": "44c58288",
   "metadata": {},
   "outputs": [
    {
     "name": "stdout",
     "output_type": "stream",
     "text": [
      " * sqlite:///sns.db\n",
      "Done.\n"
     ]
    },
    {
     "data": {
      "text/html": [
       "<table>\n",
       "    <thead>\n",
       "        <tr>\n",
       "            <th>image_id</th>\n",
       "            <th>title</th>\n",
       "            <th>format</th>\n",
       "            <th>file_size</th>\n",
       "            <th>image_url</th>\n",
       "        </tr>\n",
       "    </thead>\n",
       "    <tbody>\n",
       "        <tr>\n",
       "            <td>0</td>\n",
       "            <td>selfie_20231105_01</td>\n",
       "            <td>png</td>\n",
       "            <td>3000000</td>\n",
       "            <td>http://localhost:3000/image/231105_01</td>\n",
       "        </tr>\n",
       "        <tr>\n",
       "            <td>1</td>\n",
       "            <td>dog_20231005_09</td>\n",
       "            <td>png</td>\n",
       "            <td>4000000</td>\n",
       "            <td>http://localhost:300/image/231005_09</td>\n",
       "        </tr>\n",
       "    </tbody>\n",
       "</table>"
      ],
      "text/plain": [
       "[(0, 'selfie_20231105_01', 'png', 3000000, 'http://localhost:3000/image/231105_01'),\n",
       " (1, 'dog_20231005_09', 'png', 4000000, 'http://localhost:300/image/231005_09')]"
      ]
     },
     "execution_count": 32,
     "metadata": {},
     "output_type": "execute_result"
    }
   ],
   "source": [
    "%sql select * from image_metadata"
   ]
  },
  {
   "cell_type": "markdown",
   "id": "75b69920",
   "metadata": {},
   "source": [
    "### post_video"
   ]
  },
  {
   "cell_type": "code",
   "execution_count": 33,
   "id": "6464d9f9",
   "metadata": {},
   "outputs": [
    {
     "name": "stdout",
     "output_type": "stream",
     "text": [
      " * sqlite:///sns.db\n",
      "Done.\n"
     ]
    },
    {
     "data": {
      "text/plain": [
       "[]"
      ]
     },
     "execution_count": 33,
     "metadata": {},
     "output_type": "execute_result"
    }
   ],
   "source": [
    "%%sql create table post_video (\n",
    "    post_id int,\n",
    "    video_id int,\n",
    "    primary key(post_id, video_id),\n",
    "    foreign key (post_id) references post(post_id),\n",
    "    foreign key (video_id) references video_metadata(video_id) on delete cascade\n",
    ")"
   ]
  },
  {
   "cell_type": "code",
   "execution_count": 34,
   "id": "c356da8b",
   "metadata": {},
   "outputs": [
    {
     "name": "stdout",
     "output_type": "stream",
     "text": [
      " * sqlite:///sns.db\n",
      "3 rows affected.\n"
     ]
    },
    {
     "data": {
      "text/plain": [
       "[]"
      ]
     },
     "execution_count": 34,
     "metadata": {},
     "output_type": "execute_result"
    }
   ],
   "source": [
    "%%sql insert into post_video (post_id, video_id)\n",
    "values\n",
    "    (1, 0),\n",
    "    (1, 1),\n",
    "    (4, 1)"
   ]
  },
  {
   "cell_type": "code",
   "execution_count": 35,
   "id": "28876fe4",
   "metadata": {},
   "outputs": [
    {
     "name": "stdout",
     "output_type": "stream",
     "text": [
      " * sqlite:///sns.db\n",
      "Done.\n"
     ]
    },
    {
     "data": {
      "text/html": [
       "<table>\n",
       "    <thead>\n",
       "        <tr>\n",
       "            <th>post_id</th>\n",
       "            <th>video_id</th>\n",
       "        </tr>\n",
       "    </thead>\n",
       "    <tbody>\n",
       "        <tr>\n",
       "            <td>1</td>\n",
       "            <td>0</td>\n",
       "        </tr>\n",
       "        <tr>\n",
       "            <td>1</td>\n",
       "            <td>1</td>\n",
       "        </tr>\n",
       "        <tr>\n",
       "            <td>4</td>\n",
       "            <td>1</td>\n",
       "        </tr>\n",
       "    </tbody>\n",
       "</table>"
      ],
      "text/plain": [
       "[(1, 0), (1, 1), (4, 1)]"
      ]
     },
     "execution_count": 35,
     "metadata": {},
     "output_type": "execute_result"
    }
   ],
   "source": [
    "%sql select * from post_video"
   ]
  },
  {
   "cell_type": "markdown",
   "id": "ea350d3b",
   "metadata": {},
   "source": [
    "### post_image"
   ]
  },
  {
   "cell_type": "code",
   "execution_count": 36,
   "id": "ea5c57ff",
   "metadata": {},
   "outputs": [
    {
     "name": "stdout",
     "output_type": "stream",
     "text": [
      " * sqlite:///sns.db\n",
      "Done.\n"
     ]
    },
    {
     "data": {
      "text/plain": [
       "[]"
      ]
     },
     "execution_count": 36,
     "metadata": {},
     "output_type": "execute_result"
    }
   ],
   "source": [
    "%%sql create table post_image (\n",
    "    post_id int,\n",
    "    image_id int,\n",
    "    primary key(post_id, image_id),\n",
    "    foreign key (post_id) references post(post_id),\n",
    "    foreign key (image_id) references image_metadata(image_id) on delete cascade\n",
    ")"
   ]
  },
  {
   "cell_type": "code",
   "execution_count": 37,
   "id": "dca20fb0",
   "metadata": {},
   "outputs": [
    {
     "name": "stdout",
     "output_type": "stream",
     "text": [
      " * sqlite:///sns.db\n",
      "2 rows affected.\n"
     ]
    },
    {
     "data": {
      "text/plain": [
       "[]"
      ]
     },
     "execution_count": 37,
     "metadata": {},
     "output_type": "execute_result"
    }
   ],
   "source": [
    "%%sql insert into post_image (post_id, image_id)\n",
    "values\n",
    "    (0, 0),\n",
    "    (3, 1)"
   ]
  },
  {
   "cell_type": "code",
   "execution_count": 38,
   "id": "71c17e60",
   "metadata": {
    "scrolled": false
   },
   "outputs": [
    {
     "name": "stdout",
     "output_type": "stream",
     "text": [
      " * sqlite:///sns.db\n",
      "Done.\n"
     ]
    },
    {
     "data": {
      "text/html": [
       "<table>\n",
       "    <thead>\n",
       "        <tr>\n",
       "            <th>post_id</th>\n",
       "            <th>image_id</th>\n",
       "        </tr>\n",
       "    </thead>\n",
       "    <tbody>\n",
       "        <tr>\n",
       "            <td>0</td>\n",
       "            <td>0</td>\n",
       "        </tr>\n",
       "        <tr>\n",
       "            <td>3</td>\n",
       "            <td>1</td>\n",
       "        </tr>\n",
       "    </tbody>\n",
       "</table>"
      ],
      "text/plain": [
       "[(0, 0), (3, 1)]"
      ]
     },
     "execution_count": 38,
     "metadata": {},
     "output_type": "execute_result"
    }
   ],
   "source": [
    "%sql select * from post_image"
   ]
  },
  {
   "cell_type": "markdown",
   "id": "9525936a",
   "metadata": {},
   "source": [
    "# query"
   ]
  },
  {
   "cell_type": "code",
   "execution_count": 53,
   "id": "88d0b70f",
   "metadata": {
    "scrolled": false
   },
   "outputs": [
    {
     "name": "stdout",
     "output_type": "stream",
     "text": [
      " * sqlite:///sns.db\n",
      "Done.\n"
     ]
    },
    {
     "data": {
      "text/html": [
       "<table>\n",
       "    <thead>\n",
       "        <tr>\n",
       "            <th>name</th>\n",
       "            <th>follwers</th>\n",
       "            <th>follwing</th>\n",
       "        </tr>\n",
       "    </thead>\n",
       "    <tbody>\n",
       "        <tr>\n",
       "            <td>John</td>\n",
       "            <td>3</td>\n",
       "            <td>3</td>\n",
       "        </tr>\n",
       "        <tr>\n",
       "            <td>Sarah</td>\n",
       "            <td>2</td>\n",
       "            <td>2</td>\n",
       "        </tr>\n",
       "        <tr>\n",
       "            <td>Sena</td>\n",
       "            <td>2</td>\n",
       "            <td>4</td>\n",
       "        </tr>\n",
       "        <tr>\n",
       "            <td>Garen</td>\n",
       "            <td>2</td>\n",
       "            <td>2</td>\n",
       "        </tr>\n",
       "        <tr>\n",
       "            <td>Jin</td>\n",
       "            <td>2</td>\n",
       "            <td>1</td>\n",
       "        </tr>\n",
       "        <tr>\n",
       "            <td>Elon</td>\n",
       "            <td>3</td>\n",
       "            <td>2</td>\n",
       "        </tr>\n",
       "    </tbody>\n",
       "</table>"
      ],
      "text/plain": [
       "[('John', 3, 3),\n",
       " ('Sarah', 2, 2),\n",
       " ('Sena', 2, 4),\n",
       " ('Garen', 2, 2),\n",
       " ('Jin', 2, 1),\n",
       " ('Elon', 3, 2)]"
      ]
     },
     "execution_count": 53,
     "metadata": {},
     "output_type": "execute_result"
    }
   ],
   "source": [
    "%%sql\n",
    "select\n",
    "U.name as name,\n",
    "(select count(*) \n",
    "from follow as F\n",
    "where F.follower_id = U.user_id ) as follwers,\n",
    "(select count(*) \n",
    "from follow as F\n",
    "where F.following_id = U.user_id ) as follwing\n",
    "from user as U;\n"
   ]
  },
  {
   "cell_type": "code",
   "execution_count": 54,
   "id": "eddce07e",
   "metadata": {},
   "outputs": [
    {
     "name": "stdout",
     "output_type": "stream",
     "text": [
      " * sqlite:///sns.db\n",
      "Done.\n"
     ]
    },
    {
     "data": {
      "text/html": [
       "<table>\n",
       "    <thead>\n",
       "        <tr>\n",
       "            <th>name</th>\n",
       "            <th>follwers</th>\n",
       "            <th>follwing</th>\n",
       "        </tr>\n",
       "    </thead>\n",
       "    <tbody>\n",
       "        <tr>\n",
       "            <td>Sarah</td>\n",
       "            <td>2</td>\n",
       "            <td>2</td>\n",
       "        </tr>\n",
       "    </tbody>\n",
       "</table>"
      ],
      "text/plain": [
       "[('Sarah', 2, 2)]"
      ]
     },
     "execution_count": 54,
     "metadata": {},
     "output_type": "execute_result"
    }
   ],
   "source": [
    "%%sql\n",
    "select\n",
    "U.name as name,\n",
    "(select count(*) from follow as F where F.follower_id = U.user_id ) as follwers,\n",
    "(select count(*) from follow as F where F.following_id = U.user_id ) as follwing\n",
    "from user as U\n",
    "where U. user_id = 1;\n"
   ]
  },
  {
   "cell_type": "code",
   "execution_count": 41,
   "id": "e8cd60c4",
   "metadata": {
    "scrolled": false
   },
   "outputs": [
    {
     "name": "stdout",
     "output_type": "stream",
     "text": [
      " * sqlite:///sns.db\n",
      "Done.\n"
     ]
    },
    {
     "data": {
      "text/html": [
       "<table>\n",
       "    <thead>\n",
       "        <tr>\n",
       "            <th>billing_plan_id</th>\n",
       "            <th>payment</th>\n",
       "            <th>number</th>\n",
       "        </tr>\n",
       "    </thead>\n",
       "    <tbody>\n",
       "        <tr>\n",
       "            <td>1</td>\n",
       "            <td>19900</td>\n",
       "            <td>2</td>\n",
       "        </tr>\n",
       "        <tr>\n",
       "            <td>2</td>\n",
       "            <td>29900</td>\n",
       "            <td>2</td>\n",
       "        </tr>\n",
       "        <tr>\n",
       "            <td>3</td>\n",
       "            <td>99000</td>\n",
       "            <td>1</td>\n",
       "        </tr>\n",
       "    </tbody>\n",
       "</table>"
      ],
      "text/plain": [
       "[(1, 19900, 2), (2, 29900, 2), (3, 99000, 1)]"
      ]
     },
     "execution_count": 41,
     "metadata": {},
     "output_type": "execute_result"
    }
   ],
   "source": [
    "%%sql\n",
    "select B.billing_plan_id, B.payment, count(*) as number \n",
    "from user as U,billing_plan as B \n",
    "where U.billing_plan_id = B.billing_plan_id\n",
    "group by U.billing_plan_id"
   ]
  },
  {
   "cell_type": "code",
   "execution_count": 42,
   "id": "b5b1f1cd",
   "metadata": {},
   "outputs": [
    {
     "name": "stdout",
     "output_type": "stream",
     "text": [
      " * sqlite:///sns.db\n",
      "Done.\n"
     ]
    },
    {
     "data": {
      "text/html": [
       "<table>\n",
       "    <thead>\n",
       "        <tr>\n",
       "            <th>user_id</th>\n",
       "            <th>comment</th>\n",
       "            <th>like_num</th>\n",
       "        </tr>\n",
       "    </thead>\n",
       "    <tbody>\n",
       "        <tr>\n",
       "            <td>5</td>\n",
       "            <td>I agree, today&#x27; weather is good!</td>\n",
       "            <td>3</td>\n",
       "        </tr>\n",
       "    </tbody>\n",
       "</table>"
      ],
      "text/plain": [
       "[(5, \"I agree, today' weather is good!\", 3)]"
      ]
     },
     "execution_count": 42,
     "metadata": {},
     "output_type": "execute_result"
    }
   ],
   "source": [
    "%%sql\n",
    "select C.user_id, C.comment,\n",
    "(select count(*) from like_comment where C.comment_id = like_comment.comment_id group by comment_id) as like_num\n",
    "from post as P, comment as C \n",
    "where P.post_id = 0 and P.post_id = C.post_id\n",
    "order by like_num"
   ]
  },
  {
   "cell_type": "code",
   "execution_count": 43,
   "id": "297edf03",
   "metadata": {},
   "outputs": [
    {
     "name": "stdout",
     "output_type": "stream",
     "text": [
      " * sqlite:///sns.db\n",
      "Done.\n"
     ]
    },
    {
     "data": {
      "text/html": [
       "<table>\n",
       "    <thead>\n",
       "        <tr>\n",
       "            <th>user_id</th>\n",
       "            <th>video_url</th>\n",
       "            <th>text</th>\n",
       "        </tr>\n",
       "    </thead>\n",
       "    <tbody>\n",
       "        <tr>\n",
       "            <td>4</td>\n",
       "            <td>http://localhost:3000/bigbang&#x27;s_theory_01_01</td>\n",
       "            <td>I took midterm exam.</td>\n",
       "        </tr>\n",
       "    </tbody>\n",
       "</table>"
      ],
      "text/plain": [
       "[(4, \"http://localhost:3000/bigbang's_theory_01_01\", 'I took midterm exam.')]"
      ]
     },
     "execution_count": 43,
     "metadata": {},
     "output_type": "execute_result"
    }
   ],
   "source": [
    "%sql select user_id, (select video_url from video_metadata as V where V.video_id = video_id)as video_url, text  from post_video natural join post  where user_id = 4"
   ]
  },
  {
   "cell_type": "code",
   "execution_count": 44,
   "id": "fe014633",
   "metadata": {},
   "outputs": [
    {
     "name": "stdout",
     "output_type": "stream",
     "text": [
      " * sqlite:///sns.db\n",
      "Done.\n"
     ]
    },
    {
     "data": {
      "text/html": [
       "<table>\n",
       "    <thead>\n",
       "        <tr>\n",
       "            <th>post_id</th>\n",
       "            <th>view_num</th>\n",
       "            <th>like_num</th>\n",
       "            <th>comment_num</th>\n",
       "        </tr>\n",
       "    </thead>\n",
       "    <tbody>\n",
       "        <tr>\n",
       "            <td>0</td>\n",
       "            <td>4</td>\n",
       "            <td>4</td>\n",
       "            <td>1</td>\n",
       "        </tr>\n",
       "    </tbody>\n",
       "</table>"
      ],
      "text/plain": [
       "[(0, 4, 4, 1)]"
      ]
     },
     "execution_count": 44,
     "metadata": {},
     "output_type": "execute_result"
    }
   ],
   "source": [
    "%%sql select post_id ,\n",
    "(select count(*) from view where P.post_id = view.post_id group by post_id) as view_num, \n",
    "(select count(*) from like where P.post_id = like.post_id group by post_id) as like_num,\n",
    "(select count(*) from comment where P.post_id = comment.post_id group by post_id) as comment_num\n",
    "from  post as P \n",
    "where user_id = 0"
   ]
  },
  {
   "cell_type": "code",
   "execution_count": 45,
   "id": "10b07f56",
   "metadata": {
    "scrolled": true
   },
   "outputs": [
    {
     "name": "stdout",
     "output_type": "stream",
     "text": [
      " * sqlite:///sns.db\n",
      "Done.\n"
     ]
    },
    {
     "data": {
      "text/html": [
       "<table>\n",
       "    <thead>\n",
       "        <tr>\n",
       "            <th>user_id</th>\n",
       "            <th>view_num</th>\n",
       "            <th>like_num</th>\n",
       "            <th>comment_num</th>\n",
       "        </tr>\n",
       "    </thead>\n",
       "    <tbody>\n",
       "        <tr>\n",
       "            <td>0</td>\n",
       "            <td>3</td>\n",
       "            <td>3</td>\n",
       "            <td>1</td>\n",
       "        </tr>\n",
       "    </tbody>\n",
       "</table>"
      ],
      "text/plain": [
       "[(0, 3, 3, 1)]"
      ]
     },
     "execution_count": 45,
     "metadata": {},
     "output_type": "execute_result"
    }
   ],
   "source": [
    "%%sql select user_id ,\n",
    "(select count(*) from view where P.user_id = view.user_id group by user_id) as view_num, \n",
    "(select count(*) from like where P.user_id = like.user_id group by user_id) as like_num,\n",
    "(select count(*) from comment where P.user_id = comment.user_id group by post_id) as comment_num\n",
    "from  post as P \n",
    "where user_id = 0"
   ]
  },
  {
   "cell_type": "code",
   "execution_count": 55,
   "id": "fcf96f83",
   "metadata": {
    "scrolled": true
   },
   "outputs": [
    {
     "name": "stdout",
     "output_type": "stream",
     "text": [
      " * sqlite:///sns.db\n",
      "Done.\n"
     ]
    },
    {
     "data": {
      "text/html": [
       "<table>\n",
       "    <thead>\n",
       "        <tr>\n",
       "            <th>post_id</th>\n",
       "            <th>text</th>\n",
       "            <th>title</th>\n",
       "            <th>image_url</th>\n",
       "        </tr>\n",
       "    </thead>\n",
       "    <tbody>\n",
       "        <tr>\n",
       "            <td>5</td>\n",
       "            <td>Let&#x27;s game together.</td>\n",
       "            <td>selfie_20231105_01</td>\n",
       "            <td>http://localhost:3000/image/231105_01</td>\n",
       "        </tr>\n",
       "        <tr>\n",
       "            <td>5</td>\n",
       "            <td>Let&#x27;s game together.</td>\n",
       "            <td>dog_20231005_09</td>\n",
       "            <td>http://localhost:300/image/231005_09</td>\n",
       "        </tr>\n",
       "    </tbody>\n",
       "</table>"
      ],
      "text/plain": [
       "[(5, \"Let's game together.\", 'selfie_20231105_01', 'http://localhost:3000/image/231105_01'),\n",
       " (5, \"Let's game together.\", 'dog_20231005_09', 'http://localhost:300/image/231005_09')]"
      ]
     },
     "execution_count": 55,
     "metadata": {},
     "output_type": "execute_result"
    }
   ],
   "source": [
    "%%sql \n",
    "select post_id,text,title,image_url\n",
    "from post natural join image_metadata\n",
    "where post_id in\n",
    "(select post_id \n",
    "from post \n",
    "where user_id in (select follower_id from follow where following_id = 0) and \n",
    "post_id not in (select post_id from view where user_id = 0))\n"
   ]
  },
  {
   "cell_type": "code",
   "execution_count": null,
   "id": "588e0dc0",
   "metadata": {},
   "outputs": [],
   "source": []
  }
 ],
 "metadata": {
  "kernelspec": {
   "display_name": "Python 3 (ipykernel)",
   "language": "python",
   "name": "python3"
  },
  "language_info": {
   "codemirror_mode": {
    "name": "ipython",
    "version": 3
   },
   "file_extension": ".py",
   "mimetype": "text/x-python",
   "name": "python",
   "nbconvert_exporter": "python",
   "pygments_lexer": "ipython3",
   "version": "3.11.4"
  }
 },
 "nbformat": 4,
 "nbformat_minor": 5
}
